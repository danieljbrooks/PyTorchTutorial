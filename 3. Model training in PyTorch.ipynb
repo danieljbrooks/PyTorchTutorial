{
 "cells": [
  {
   "cell_type": "markdown",
   "metadata": {},
   "source": [
    "# Training Computer Vision Models in PyTorch\n",
    "PyData Los Angeles 2019 Tutorial"
   ]
  },
  {
   "cell_type": "markdown",
   "metadata": {},
   "source": [
    "### Model training process\n",
    "\n",
    "1. Define Dataset, DataLoaders\n",
    "2. Determine/define model architecture\n",
    "3. Initialize model weights\n",
    "4. Select a loss function\n",
    "5. Select an optimizer\n",
    "6. Train model on a series of images, x, with associated labels, y\n",
    "7. Benchmark performance of model"
   ]
  },
  {
   "cell_type": "markdown",
   "metadata": {},
   "source": [
    "### For end-to-end examples of model training, check out these official tutorials:\n",
    "\n",
    "#### Training a Classifier\n",
    "https://pytorch.org/tutorials/beginner/blitz/cifar10_tutorial.html#sphx-glr-beginner-blitz-cifar10-tutorial-py\n",
    "\n",
    "#### Torchvision Object Detection Finetuning Tutorial \n",
    "https://pytorch.org/tutorials/intermediate/torchvision_tutorial.html\n",
    "    \n",
    "#### Neural Transfer Using PyTorch\n",
    "https://pytorch.org/tutorials/advanced/neural_style_tutorial.html"
   ]
  }
 ],
 "metadata": {
  "kernelspec": {
   "display_name": "Python 3",
   "language": "python",
   "name": "python3"
  },
  "language_info": {
   "codemirror_mode": {
    "name": "ipython",
    "version": 3
   },
   "file_extension": ".py",
   "mimetype": "text/x-python",
   "name": "python",
   "nbconvert_exporter": "python",
   "pygments_lexer": "ipython3",
   "version": "3.6.5"
  }
 },
 "nbformat": 4,
 "nbformat_minor": 2
}
